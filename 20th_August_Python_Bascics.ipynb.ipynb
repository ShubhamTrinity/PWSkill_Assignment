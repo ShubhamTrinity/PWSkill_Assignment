{
 "cells": [
  {
   "cell_type": "code",
   "execution_count": 1,
   "id": "40824853-20ad-49cc-a2f1-5adc03883544",
   "metadata": {},
   "outputs": [
    {
     "name": "stdout",
     "output_type": "stream",
     "text": [
      "10\n",
      "20\n"
     ]
    }
   ],
   "source": [
    "#swaping of two numbers without temp variable\n",
    "a=20   # a & b are the two variables that will holds the numbers\n",
    "b=10\n",
    "\n",
    "a=a+b   # performing some basic operation to get desire output\n",
    "b=a-b\n",
    "a=a-b\n",
    "print(a) # Printing the results\n",
    "print(b)"
   ]
  },
  {
   "cell_type": "code",
   "execution_count": 2,
   "id": "6ba097d6-eb0b-41a8-863b-ba86b0678515",
   "metadata": {},
   "outputs": [
    {
     "name": "stdin",
     "output_type": "stream",
     "text": [
      "Enter the length of Rectangle: 5\n",
      "Enter the breadth of Rectangle: 3.5\n"
     ]
    },
    {
     "name": "stdout",
     "output_type": "stream",
     "text": [
      "17.5\n"
     ]
    }
   ],
   "source": [
    "#Area of Rectangle\n",
    "l=float(input(\"Enter the length of Rectangle:\"))   # Taking the input from the users and storing them into variable a and b\n",
    "b=float(input(\"Enter the breadth of Rectangle:\"))\n",
    "\n",
    "area=l * b  # Applying the multiplying formula to get desire output\n",
    "print(area)  # Printing the Result"
   ]
  },
  {
   "cell_type": "code",
   "execution_count": 3,
   "id": "8030d7f0-df75-4048-9f20-6d4259128419",
   "metadata": {},
   "outputs": [
    {
     "name": "stdin",
     "output_type": "stream",
     "text": [
      "Enter your Celsius Temperature value: 25\n"
     ]
    },
    {
     "name": "stdout",
     "output_type": "stream",
     "text": [
      "77.0\n"
     ]
    }
   ],
   "source": [
    "# Temperature from Celsius to Fahrenheit.\n",
    "\n",
    "C=float(input(\"Enter your Celsius Temperature value:\")) # Taking the input from the users and storing them into variable C\n",
    "F= (C*9/5)+32   # Applying the formula to change the Celsius value into the Fahrenheit\n",
    "print(F)  # Printing the Result value"
   ]
  },
  {
   "cell_type": "code",
   "execution_count": 4,
   "id": "043ebb77-d4d1-4301-9318-4253782dd673",
   "metadata": {},
   "outputs": [
    {
     "name": "stdin",
     "output_type": "stream",
     "text": [
      "Enter your String shubham kumar\n"
     ]
    },
    {
     "name": "stdout",
     "output_type": "stream",
     "text": [
      "13\n"
     ]
    }
   ],
   "source": [
    "# String based problem-1\n",
    "str1=str(input(\"Enter your String\"))  # Taking the input from user and storing them into variable str1\n",
    "print(len(str1)) # printing the length of the string"
   ]
  },
  {
   "cell_type": "code",
   "execution_count": 5,
   "id": "186792c3-ab52-42a9-b3ea-d6b6863f933f",
   "metadata": {},
   "outputs": [
    {
     "name": "stdin",
     "output_type": "stream",
     "text": [
      "Enter your Sentence to count the Vowels Shubham kumar\n"
     ]
    },
    {
     "name": "stdout",
     "output_type": "stream",
     "text": [
      "4\n"
     ]
    }
   ],
   "source": [
    "#Count of vowel in sentence\n",
    "\n",
    "#Method-1\n",
    "import re    # importing the re module to perform some task based on Expressions\n",
    "str2=str(input(\"Enter your Sentence to count the Vowels\"))  # Taking input from user and stroing them into str2 Variable\n",
    "vowels = r'[aeiouAEIOU]'    # crreating one varibale with all possible vowel conditions to match with User string\n",
    "Vowel_count = len(re.findall(vowels, str2))  # Checking and counting the Vowel and their length\n",
    "print(Vowel_count)  # Printing the Length of the Vowel_count to show the total count of Vowel in the string\n",
    "         "
   ]
  },
  {
   "cell_type": "code",
   "execution_count": 6,
   "id": "8672c3c0-082b-4717-872a-5b96cf0a1721",
   "metadata": {},
   "outputs": [
    {
     "name": "stdin",
     "output_type": "stream",
     "text": [
      "Enter your String Shubham kumar\n"
     ]
    },
    {
     "name": "stdout",
     "output_type": "stream",
     "text": [
      "4\n"
     ]
    }
   ],
   "source": [
    "#Count of vowel in sentence\n",
    "\n",
    "#Method-2\n",
    "\n",
    "str3=str(input(\"Enter your String\"))  # Taking the user input into the variable str3\n",
    "count=0   # declaring and Inisilizing a varibale with name count to count the occurance of Vowel\n",
    "str3=str3.lower()  # contering the user string into the lower case string\n",
    "for i in str3:   # Applying the for loop to iterate into the string \n",
    "    if i=='a' or i=='e' or i=='i' or i=='o' or i=='u':   # checking the condition to match with each index charater whether it is vowel or not\n",
    "        count=count+1 # if the above expression True then this will increase the count by 1\n",
    "\n",
    "if count>0:   # checking the count value whether its greater then 0 or not \n",
    "    print(count)  # if the count varibale is greater than 1 then it will print that number else below code will print Zero\n",
    "else:\n",
    "    print(\"Zero\")\n",
    "\n"
   ]
  },
  {
   "cell_type": "code",
   "execution_count": 7,
   "id": "a2465e7b-df9f-46fd-bae2-ace8bfe6f716",
   "metadata": {},
   "outputs": [
    {
     "name": "stdin",
     "output_type": "stream",
     "text": [
      "Enter your String Shubham kumar\n"
     ]
    },
    {
     "name": "stdout",
     "output_type": "stream",
     "text": [
      "ramuk mahbuhS\n"
     ]
    }
   ],
   "source": [
    "#Reverse the string using slicing concept\n",
    "str4=str(input(\"Enter your String\"))   # Taking the user input and storing them into str4\n",
    "print(str4[::-1])   #Reversing the string then priting that string "
   ]
  },
  {
   "cell_type": "code",
   "execution_count": 8,
   "id": "932b3e85-62b0-47b6-8d44-9af75ea31b3f",
   "metadata": {},
   "outputs": [
    {
     "name": "stdin",
     "output_type": "stream",
     "text": [
      "Enter your String Shubham kumar\n"
     ]
    },
    {
     "name": "stdout",
     "output_type": "stream",
     "text": [
      "False\n"
     ]
    }
   ],
   "source": [
    "#Palindrome checker-1\n",
    "str5=str(input(\"Enter your String\")) # Taking the user input and storing them into str5\n",
    "str6=str5[::-1]  # Reversing the String and storing them into Str6\n",
    "print(str5==str6)  #Applying the Boolean condition to check and return True or False based on the condition whether its Palindrome or not"
   ]
  },
  {
   "cell_type": "code",
   "execution_count": 9,
   "id": "0f61ba45-f925-4f02-86c5-391c2c794b3e",
   "metadata": {},
   "outputs": [
    {
     "name": "stdin",
     "output_type": "stream",
     "text": [
      "Enter your String Shubham kumar\n"
     ]
    },
    {
     "name": "stdout",
     "output_type": "stream",
     "text": [
      "Your String is not Palindrome: Shubham kumar\n"
     ]
    }
   ],
   "source": [
    "#Palindrome checker-2\n",
    "str5=str(input(\"Enter your String\")) #Taking the input from user and string them into the varibale str5\n",
    "str6=str5[::-1]  # reversing the string and stroing them into the variable str6\n",
    "if str6==str5:  # applying the if-else statement to check whether the both string are matching each other or not if strings are matching then its Palindrome else vice-vers\n",
    "    print(\"Your String is Palindrome:\",str5) # printing the result in case of true condition\n",
    "else:\n",
    "    print(\"Your String is not Palindrome:\", str5) # printing the result in case of False condition"
   ]
  },
  {
   "cell_type": "code",
   "execution_count": 11,
   "id": "723e3dee-6bd6-49aa-80c9-1e4d7aa864dc",
   "metadata": {},
   "outputs": [
    {
     "name": "stdin",
     "output_type": "stream",
     "text": [
      "Enter your String     Shubham  \n"
     ]
    },
    {
     "name": "stdout",
     "output_type": "stream",
     "text": [
      "Shubham\n"
     ]
    }
   ],
   "source": [
    "# Trim the string\n",
    "str7=str(input(\"Enter your String\"))  # Taking the user input as string into the varibale str7\n",
    "print(str7.strip())   # Removing all the space from both sides of the string and then printing that string "
   ]
  },
  {
   "cell_type": "code",
   "execution_count": null,
   "id": "354d37a5-7cb1-4b25-a904-a0e752860544",
   "metadata": {},
   "outputs": [],
   "source": []
  }
 ],
 "metadata": {
  "kernelspec": {
   "display_name": "Python 3 (ipykernel)",
   "language": "python",
   "name": "python3"
  },
  "language_info": {
   "codemirror_mode": {
    "name": "ipython",
    "version": 3
   },
   "file_extension": ".py",
   "mimetype": "text/x-python",
   "name": "python",
   "nbconvert_exporter": "python",
   "pygments_lexer": "ipython3",
   "version": "3.10.8"
  }
 },
 "nbformat": 4,
 "nbformat_minor": 5
}
